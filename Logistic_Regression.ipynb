{
  "nbformat": 4,
  "nbformat_minor": 0,
  "metadata": {
    "colab": {
      "provenance": [],
      "authorship_tag": "ABX9TyMHE3zpfON1yKDFM6nYveG+",
      "include_colab_link": true
    },
    "kernelspec": {
      "name": "python3",
      "display_name": "Python 3"
    },
    "language_info": {
      "name": "python"
    }
  },
  "cells": [
    {
      "cell_type": "markdown",
      "metadata": {
        "id": "view-in-github",
        "colab_type": "text"
      },
      "source": [
        "<a href=\"https://colab.research.google.com/github/capahdan/My-Me-Health/blob/ML-branch/Logistic_Regression.ipynb\" target=\"_parent\"><img src=\"https://colab.research.google.com/assets/colab-badge.svg\" alt=\"Open In Colab\"/></a>"
      ]
    },
    {
      "cell_type": "code",
      "execution_count": 14,
      "metadata": {
        "id": "KOeBTRALuDlY"
      },
      "outputs": [],
      "source": [
        "import pandas as pd\n",
        "from sklearn.model_selection import train_test_split\n",
        "from sklearn.preprocessing import StandardScaler\n",
        "from sklearn.decomposition import PCA\n",
        "from sklearn.linear_model import LogisticRegression\n",
        "from sklearn.metrics import accuracy_score, classification_report"
      ]
    },
    {
      "cell_type": "code",
      "source": [
        "df = pd.read_csv('/content/PHQ9_Results.csv')\n",
        "missing_values = df.isnull().sum()\n",
        "\n",
        "print(df)"
      ],
      "metadata": {
        "colab": {
          "base_uri": "https://localhost:8080/"
        },
        "id": "wmbyYA1o0igv",
        "outputId": "eb06e722-fd42-4c99-9363-c2532dbbe717"
      },
      "execution_count": 15,
      "outputs": [
        {
          "output_type": "stream",
          "name": "stdout",
          "text": [
            "        SEQN  RIDAGEYR  DPQ010  DPQ020  DPQ030  DPQ040  DPQ050  DPQ060  \\\n",
            "0     109266        29       0       0       0       0       0       0   \n",
            "1     109271        49       2       1       0       0       0       0   \n",
            "2     109273        36       2       2       2       2       2       2   \n",
            "3     109274        68       0       0       0       0       0       0   \n",
            "4     109282        76       0       1       0       1       0       0   \n",
            "...      ...       ...     ...     ...     ...     ...     ...     ...   \n",
            "7877  124815        52       0       0       0       0       0       0   \n",
            "7878  124817        67       1       1       1       1       0       0   \n",
            "7879  124818        40       0       0       0       1       0       0   \n",
            "7880  124821        63       3       0       0       2       0       0   \n",
            "7881  124822        74       0       0       0       2       2       0   \n",
            "\n",
            "      DPQ070  DPQ080  DPQ090  Total       Action to take       Expectation  \n",
            "0          0       0       0      0  Continue monitoring          Expected  \n",
            "1          2       0       0      5  Continue monitoring          Expected  \n",
            "2          2       1       0     15  Specialist referral  Outside expected  \n",
            "3          0       0       0      0  Continue monitoring          Expected  \n",
            "4          0       3       0      5  Continue monitoring  Outside expected  \n",
            "...      ...     ...     ...    ...                  ...               ...  \n",
            "7877       0       0       0      0  Continue monitoring          Expected  \n",
            "7878       0       0       0      4  Continue monitoring          Expected  \n",
            "7879       0       0       0      1  Continue monitoring          Expected  \n",
            "7880       0       0       0      5  Continue monitoring          Expected  \n",
            "7881       0       1       0      5  Continue monitoring  Outside expected  \n",
            "\n",
            "[7882 rows x 14 columns]\n"
          ]
        }
      ]
    },
    {
      "cell_type": "code",
      "source": [
        "if missing_values.any():\n",
        "  print(\"Telah ditemukan data yang hilang\")\n",
        "else:\n",
        "  print(\"Tidak ada data yang hilang\")"
      ],
      "metadata": {
        "colab": {
          "base_uri": "https://localhost:8080/"
        },
        "id": "1xrjxQ511FYT",
        "outputId": "adfddfb2-4fb0-4656-80e9-003965def590"
      },
      "execution_count": 16,
      "outputs": [
        {
          "output_type": "stream",
          "name": "stdout",
          "text": [
            "Tidak ada data yang hilang\n"
          ]
        }
      ]
    },
    {
      "cell_type": "code",
      "source": [
        "X = df[['DPQ010', 'DPQ020', 'DPQ030', 'DPQ040', 'DPQ050', 'DPQ060', 'DPQ070', 'DPQ080', 'DPQ090']]\n",
        "y = pd.cut(df['Total'], bins=[-float('inf'), 5, 9, 14, 19, float('inf')], labels=['Normal', 'Minimal Symptoms', 'Minor Depression', 'Major Depression', 'Severe'])\n",
        "X_train, X_test, y_train, y_test = train_test_split(X, y, test_size=0.2, random_state=42)\n",
        "\n",
        "print(\"Training data shape:\", X_train.shape, y_train.shape)\n",
        "print(\"Test data shape:\", X_test.shape, y_test.shape)"
      ],
      "metadata": {
        "colab": {
          "base_uri": "https://localhost:8080/"
        },
        "id": "87tPKj-bXUmx",
        "outputId": "0451ca57-37a0-4b4e-ff30-c7bba97b6b69"
      },
      "execution_count": 17,
      "outputs": [
        {
          "output_type": "stream",
          "name": "stdout",
          "text": [
            "Training data shape: (6305, 9) (6305,)\n",
            "Test data shape: (1577, 9) (1577,)\n"
          ]
        }
      ]
    },
    {
      "cell_type": "code",
      "source": [
        "model = LogisticRegression()\n",
        "model.fit(X_train, y_train)\n",
        "y_pred = model.predict(X_test)"
      ],
      "metadata": {
        "colab": {
          "base_uri": "https://localhost:8080/"
        },
        "id": "mCjmWsxr1Kce",
        "outputId": "ea70557b-0534-4154-e25c-79e5cf7c2be5"
      },
      "execution_count": 18,
      "outputs": [
        {
          "output_type": "stream",
          "name": "stderr",
          "text": [
            "/usr/local/lib/python3.10/dist-packages/sklearn/linear_model/_logistic.py:458: ConvergenceWarning: lbfgs failed to converge (status=1):\n",
            "STOP: TOTAL NO. of ITERATIONS REACHED LIMIT.\n",
            "\n",
            "Increase the number of iterations (max_iter) or scale the data as shown in:\n",
            "    https://scikit-learn.org/stable/modules/preprocessing.html\n",
            "Please also refer to the documentation for alternative solver options:\n",
            "    https://scikit-learn.org/stable/modules/linear_model.html#logistic-regression\n",
            "  n_iter_i = _check_optimize_result(\n"
          ]
        }
      ]
    },
    {
      "cell_type": "code",
      "source": [
        "accuracy = accuracy_score(y_test, y_pred)\n",
        "classification_report = classification_report(y_test, y_pred)\n",
        "\n",
        "print(\"Accuracy:\", accuracy)\n",
        "print(\"Classification Report:\")\n",
        "print(classification_report)"
      ],
      "metadata": {
        "colab": {
          "base_uri": "https://localhost:8080/"
        },
        "id": "xkCucY0M1fMc",
        "outputId": "03c8522d-c672-43c1-8bdb-48519d2cd43e"
      },
      "execution_count": 19,
      "outputs": [
        {
          "output_type": "stream",
          "name": "stdout",
          "text": [
            "Accuracy: 0.9961953075459734\n",
            "Classification Report:\n",
            "                  precision    recall  f1-score   support\n",
            "\n",
            "Major Depression       0.97      0.88      0.92        41\n",
            "Minimal Symptoms       1.00      1.00      1.00       190\n",
            "Minor Depression       0.95      1.00      0.98       100\n",
            "          Normal       1.00      1.00      1.00      1229\n",
            "          Severe       1.00      0.94      0.97        17\n",
            "\n",
            "        accuracy                           1.00      1577\n",
            "       macro avg       0.99      0.96      0.97      1577\n",
            "    weighted avg       1.00      1.00      1.00      1577\n",
            "\n"
          ]
        }
      ]
    },
    {
      "cell_type": "code",
      "source": [
        "from sklearn.linear_model import LogisticRegression\n",
        "\n",
        "# Membuat model Logistic Regression\n",
        "model = LogisticRegression()\n",
        "\n",
        "# Train the model on the entire X and y dataset\n",
        "model.fit(X, y)\n",
        "\n",
        "# Membut input test DataFrame menggunakan nilai yang disediakan\n",
        "input_values = []\n",
        "for feature in X.columns:\n",
        "    value = float(input(f\"Enter value for {feature}: \"))\n",
        "    input_values.append(value)\n",
        "\n",
        "input_test = pd.DataFrame([input_values], columns=X.columns)\n",
        "\n",
        "# Membuat prediksi berdasarkan input data\n",
        "predicted_label = model.predict(input_test)\n",
        "\n",
        "print(\"Predicted Label:\", predicted_label)"
      ],
      "metadata": {
        "colab": {
          "base_uri": "https://localhost:8080/"
        },
        "id": "fHVX1YDHXmJV",
        "outputId": "618b03f3-a0e7-45e5-d3c6-c5c4d20991cf"
      },
      "execution_count": 20,
      "outputs": [
        {
          "output_type": "stream",
          "name": "stderr",
          "text": [
            "/usr/local/lib/python3.10/dist-packages/sklearn/linear_model/_logistic.py:458: ConvergenceWarning: lbfgs failed to converge (status=1):\n",
            "STOP: TOTAL NO. of ITERATIONS REACHED LIMIT.\n",
            "\n",
            "Increase the number of iterations (max_iter) or scale the data as shown in:\n",
            "    https://scikit-learn.org/stable/modules/preprocessing.html\n",
            "Please also refer to the documentation for alternative solver options:\n",
            "    https://scikit-learn.org/stable/modules/linear_model.html#logistic-regression\n",
            "  n_iter_i = _check_optimize_result(\n"
          ]
        },
        {
          "output_type": "stream",
          "name": "stdout",
          "text": [
            "Enter value for DPQ010: 2\n",
            "Enter value for DPQ020: 3\n",
            "Enter value for DPQ030: 3\n",
            "Enter value for DPQ040: 2\n",
            "Enter value for DPQ050: 2\n",
            "Enter value for DPQ060: 3\n",
            "Enter value for DPQ070: 3\n",
            "Enter value for DPQ080: 3\n",
            "Enter value for DPQ090: 0\n",
            "Predicted Label: ['Severe']\n"
          ]
        }
      ]
    }
  ]
}