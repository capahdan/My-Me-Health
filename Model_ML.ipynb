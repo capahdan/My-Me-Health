{
  "nbformat": 4,
  "nbformat_minor": 0,
  "metadata": {
    "colab": {
      "provenance": [],
      "authorship_tag": "ABX9TyNBQTgXofiE3X0/4ECo4/Zr",
      "include_colab_link": true
    },
    "kernelspec": {
      "name": "python3",
      "display_name": "Python 3"
    },
    "language_info": {
      "name": "python"
    }
  },
  "cells": [
    {
      "cell_type": "markdown",
      "metadata": {
        "id": "view-in-github",
        "colab_type": "text"
      },
      "source": [
        "<a href=\"https://colab.research.google.com/github/capahdan/My-Me-Health/blob/main/Model_ML.ipynb\" target=\"_parent\"><img src=\"https://colab.research.google.com/assets/colab-badge.svg\" alt=\"Open In Colab\"/></a>"
      ]
    },
    {
      "cell_type": "markdown",
      "source": [
        "# Preprocessing Data"
      ],
      "metadata": {
        "id": "ESzHSohi5bVJ"
      }
    },
    {
      "cell_type": "code",
      "source": [
        "import pandas as pd\n",
        "from sklearn.model_selection import train_test_split\n",
        "from sklearn.preprocessing import StandardScaler\n",
        "from sklearn.decomposition import PCA\n",
        "from sklearn.tree import DecisionTreeClassifier\n",
        "from sklearn.metrics import accuracy_score, classification_report"
      ],
      "metadata": {
        "id": "3E86RWxJLOjk"
      },
      "execution_count": 31,
      "outputs": []
    },
    {
      "cell_type": "code",
      "execution_count": 32,
      "metadata": {
        "colab": {
          "base_uri": "https://localhost:8080/"
        },
        "id": "Pmd3p-mn5Z5S",
        "outputId": "9d62d881-4003-413d-9ea2-b463c3a3a2d1"
      },
      "outputs": [
        {
          "output_type": "stream",
          "name": "stdout",
          "text": [
            "        SEQN  RIDAGEYR  DPQ010  DPQ020  DPQ030  DPQ040  DPQ050  DPQ060  \\\n",
            "0     109266        29       0       0       0       0       0       0   \n",
            "1     109271        49       2       1       0       0       0       0   \n",
            "2     109273        36       2       2       2       2       2       2   \n",
            "3     109274        68       0       0       0       0       0       0   \n",
            "4     109282        76       0       1       0       1       0       0   \n",
            "...      ...       ...     ...     ...     ...     ...     ...     ...   \n",
            "7877  124815        52       0       0       0       0       0       0   \n",
            "7878  124817        67       1       1       1       1       0       0   \n",
            "7879  124818        40       0       0       0       1       0       0   \n",
            "7880  124821        63       3       0       0       2       0       0   \n",
            "7881  124822        74       0       0       0       2       2       0   \n",
            "\n",
            "      DPQ070  DPQ080  DPQ090  Total       Action to take       Expectation  \n",
            "0          0       0       0      0  Continue monitoring          Expected  \n",
            "1          2       0       0      5  Continue monitoring          Expected  \n",
            "2          2       1       0     15  Specialist referral  Outside expected  \n",
            "3          0       0       0      0  Continue monitoring          Expected  \n",
            "4          0       3       0      5  Continue monitoring  Outside expected  \n",
            "...      ...     ...     ...    ...                  ...               ...  \n",
            "7877       0       0       0      0  Continue monitoring          Expected  \n",
            "7878       0       0       0      4  Continue monitoring          Expected  \n",
            "7879       0       0       0      1  Continue monitoring          Expected  \n",
            "7880       0       0       0      5  Continue monitoring          Expected  \n",
            "7881       0       1       0      5  Continue monitoring  Outside expected  \n",
            "\n",
            "[7882 rows x 14 columns]\n"
          ]
        }
      ],
      "source": [
        "df = pd.read_csv('/content/PHQ9_Results.csv')\n",
        "missing_values = df.isnull().sum()\n",
        "\n",
        "print(df)"
      ]
    },
    {
      "cell_type": "code",
      "source": [
        "if missing_values.any():\n",
        "  print(\"Telah ditemukan data yang hilang\")\n",
        "else:\n",
        "  print(\"Tidak ada data yang hilang\")"
      ],
      "metadata": {
        "colab": {
          "base_uri": "https://localhost:8080/"
        },
        "id": "XHxj5IxH6fAQ",
        "outputId": "a0e60e49-48bc-4a48-d7a1-b9b7f03fd4d9"
      },
      "execution_count": 33,
      "outputs": [
        {
          "output_type": "stream",
          "name": "stdout",
          "text": [
            "Tidak ada data yang hilang\n"
          ]
        }
      ]
    },
    {
      "cell_type": "markdown",
      "source": [
        "# Split Data"
      ],
      "metadata": {
        "id": "ga-Y6NJQMQTA"
      }
    },
    {
      "cell_type": "code",
      "source": [
        "X = df[['DPQ010', 'DPQ020', 'DPQ030', 'DPQ040', 'DPQ050', 'DPQ060', 'DPQ070', 'DPQ080', 'DPQ090']]\n",
        "y = pd.cut(df['Total'], bins=[-float('inf'), 5, 9, 14, 19, float('inf')], labels=['Normal', 'Minimal Symptoms', 'Minor Depression', 'Major Depression', 'Severe'])\n",
        "X_train, X_test, y_train, y_test = train_test_split(X, y, test_size=0.2, random_state=42)\n",
        "\n",
        "print(\"Training data shape:\", X_train.shape, y_train.shape)\n",
        "print(\"Test data shape:\", X_test.shape, y_test.shape)"
      ],
      "metadata": {
        "id": "otFSGf0Z8BJA",
        "colab": {
          "base_uri": "https://localhost:8080/"
        },
        "outputId": "0b667c49-ad2a-4d43-9e07-314eeda4d011"
      },
      "execution_count": 34,
      "outputs": [
        {
          "output_type": "stream",
          "name": "stdout",
          "text": [
            "Training data shape: (6305, 9) (6305,)\n",
            "Test data shape: (1577, 9) (1577,)\n"
          ]
        }
      ]
    },
    {
      "cell_type": "markdown",
      "source": [
        "# Normalize"
      ],
      "metadata": {
        "id": "RHF29wU-MV66"
      }
    },
    {
      "cell_type": "code",
      "source": [
        "scaler = StandardScaler()\n",
        "X_train_scaled = scaler.fit_transform(X_train)\n",
        "X_test_scaled = scaler.transform(X_test)"
      ],
      "metadata": {
        "id": "bd3Hnsy-BYMR"
      },
      "execution_count": 35,
      "outputs": []
    },
    {
      "cell_type": "markdown",
      "source": [
        "# Apply PCA"
      ],
      "metadata": {
        "id": "toyzM3E_MaeE"
      }
    },
    {
      "cell_type": "code",
      "source": [
        "pca = PCA(n_components=None)  # Set the desired number of components\n",
        "X_train_pca = pca.fit_transform(X_train_scaled)\n",
        "X_test_pca = pca.transform(X_test_scaled)\n",
        "\n",
        "explained_variance_ratio = pca.explained_variance_ratio_\n",
        "cumulative_variance = np.cumsum(explained_variance_ratio)\n",
        "n_components = np.argmax(cumulative_variance >= 0.95) + 1\n",
        "\n",
        "pca = PCA(n_components=n_components)\n",
        "X_train_pca = pca.fit_transform(X_train_scaled)\n",
        "X_test_pca = pca.transform(X_test_scaled)  # Add this line to transform the testing data"
      ],
      "metadata": {
        "id": "0N2bbSqbB-1U"
      },
      "execution_count": 36,
      "outputs": []
    },
    {
      "cell_type": "markdown",
      "source": [
        "# Decision Tree"
      ],
      "metadata": {
        "id": "BCh_y1FyCFYr"
      }
    },
    {
      "cell_type": "code",
      "source": [
        "decision_tree = DecisionTreeClassifier()\n",
        "decision_tree.fit(X_train_pca, y_train)\n",
        "y_pred = decision_tree.predict(X_test_pca)\n",
        "\n",
        "accuracy = accuracy_score(y_test, y_pred)\n",
        "classification_report = classification_report(y_test, y_pred)\n",
        "\n",
        "print(\"Accuracy:\", accuracy)\n",
        "print(\"Classification Report:\")\n",
        "print(classification_report)"
      ],
      "metadata": {
        "id": "thbAmSv2CBKi",
        "colab": {
          "base_uri": "https://localhost:8080/"
        },
        "outputId": "ed8f4053-f081-4654-c164-4d87ec69d05b"
      },
      "execution_count": 37,
      "outputs": [
        {
          "output_type": "stream",
          "name": "stdout",
          "text": [
            "Accuracy: 0.9917564996829423\n",
            "Classification Report:\n",
            "                  precision    recall  f1-score   support\n",
            "\n",
            "Major Depression       0.90      0.93      0.92        41\n",
            "Minimal Symptoms       0.98      0.98      0.98       190\n",
            "Minor Depression       0.97      0.98      0.98       100\n",
            "          Normal       1.00      1.00      1.00      1229\n",
            "          Severe       0.88      0.82      0.85        17\n",
            "\n",
            "        accuracy                           0.99      1577\n",
            "       macro avg       0.95      0.94      0.94      1577\n",
            "    weighted avg       0.99      0.99      0.99      1577\n",
            "\n"
          ]
        }
      ]
    },
    {
      "cell_type": "markdown",
      "source": [
        "# Checking"
      ],
      "metadata": {
        "id": "B0rCyeKIOWru"
      }
    },
    {
      "cell_type": "code",
      "source": [
        "input_values = []\n",
        "for feature in X.columns:\n",
        "    value = float(input(f\"Enter value for {feature}: \"))\n",
        "    input_values.append(value)\n",
        "\n",
        "input_test = pd.DataFrame([input_values], columns=X.columns)\n",
        "input_test_scaled = scaler.transform(input_test)\n",
        "input_test_pca = pca.transform(input_test_scaled)\n",
        "predicted_label = decision_tree.predict(input_test_pca)\n",
        "\n",
        "print(\"Predicted Label:\", predicted_label)"
      ],
      "metadata": {
        "id": "q57au9u8DLwY",
        "colab": {
          "base_uri": "https://localhost:8080/"
        },
        "outputId": "59d2df43-cec5-44f1-9342-28496023bb03"
      },
      "execution_count": 42,
      "outputs": [
        {
          "output_type": "stream",
          "name": "stdout",
          "text": [
            "Enter value for DPQ010: 2\n",
            "Enter value for DPQ020: 1\n",
            "Enter value for DPQ030: 3\n",
            "Enter value for DPQ040: 2\n",
            "Enter value for DPQ050: 2\n",
            "Enter value for DPQ060: 2\n",
            "Enter value for DPQ070: 2\n",
            "Enter value for DPQ080: 1\n",
            "Enter value for DPQ090: 1\n",
            "Predicted Label: ['Major Depression']\n"
          ]
        }
      ]
    },
    {
      "cell_type": "markdown",
      "source": [
        "# H5"
      ],
      "metadata": {
        "id": "3fegEdOsOl-0"
      }
    },
    {
      "cell_type": "code",
      "source": [
        "import joblib\n",
        "from sklearn.tree import DecisionTreeClassifier\n",
        "\n",
        "# Train your Decision Tree model\n",
        "decision_tree = DecisionTreeClassifier()\n",
        "decision_tree.fit(X_train_pca, y_train)\n",
        "\n",
        "# Save the Decision Tree model as a pickle file\n",
        "joblib.dump(decision_tree, 'my_decision_tree.pkl')\n"
      ],
      "metadata": {
        "colab": {
          "base_uri": "https://localhost:8080/"
        },
        "id": "rP4MqNt5OrJ9",
        "outputId": "046a1d14-7461-4ff0-af9d-cd2b4c7e41ba"
      },
      "execution_count": 48,
      "outputs": [
        {
          "output_type": "execute_result",
          "data": {
            "text/plain": [
              "['my_decision_tree.pkl']"
            ]
          },
          "metadata": {},
          "execution_count": 48
        }
      ]
    }
  ]
}